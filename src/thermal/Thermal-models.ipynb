{
 "cells": [
  {
   "cell_type": "code",
   "execution_count": 28,
   "metadata": {},
   "outputs": [],
   "source": [
    "import matplotlib.pyplot as plt\n",
    "import numpy as np\n",
    "import subprocess"
   ]
  },
  {
   "cell_type": "code",
   "execution_count": 2,
   "metadata": {},
   "outputs": [],
   "source": [
    "# spreading rate, m/yr\n",
    "rate = 0.02"
   ]
  },
  {
   "cell_type": "code",
   "execution_count": 12,
   "metadata": {
    "scrolled": false
   },
   "outputs": [],
   "source": [
    "# run the C program and output to out.temp\n",
    "def run_thermal_model(model,rate):\n",
    "    if model == 1:\n",
    "        model_name = 'sleep_cooling '\n",
    "    elif model == 2:\n",
    "        model_name = 'sleep_modified '\n",
    "    else:\n",
    "        model_name = 'sleep_cooling '\n",
    "    runcmd = model_name + str(rate)\n",
    "    outfile = open(\"out.temp\",\"w\")\n",
    "    subprocess.call(runcmd,stdout=outfile,shell=True)"
   ]
  },
  {
   "cell_type": "code",
   "execution_count": 29,
   "metadata": {},
   "outputs": [],
   "source": [
    "# read data into numpy array\n",
    "def read_thermal_model(outfile):\n",
    "    data = np.loadtxt(fname=outfile)\n",
    "    # extract top row and first columns (x and z coords)\n",
    "    x_coords = data[0,1:] / 1000;\n",
    "    z_coords = data[1:,0] / -1000;\n",
    "    temps = np.transpose(data[1:,1:])\n",
    "    return x_coords,z_coords,temps"
   ]
  },
  {
   "cell_type": "code",
   "execution_count": 39,
   "metadata": {},
   "outputs": [],
   "source": [
    "# simple plotting of thermal models\n",
    "def plot_thermal_profiles(x,z,t):\n",
    "    plt.plot(t[:,0],z,label='On axis')\n",
    "    plt.plot(t[:,149],z,label='X = 15 km')\n",
    "    plt.plot(t[:,299],z,label='X = 30 km')\n",
    "    plt.xlabel('Temperature (C)')\n",
    "    plt.ylabel('Depth (km)')\n",
    "    plt.legend()\n",
    "    plt.show()"
   ]
  },
  {
   "cell_type": "code",
   "execution_count": 53,
   "metadata": {},
   "outputs": [],
   "source": [
    "def plot_thermal_contours(x,z,t):\n",
    "    # make mesh\n",
    "    X,Z = np.meshgrid(x,z)\n",
    "    TC = plt.contour(X,Z,t,colors='k',levels=[0, 300, 600, 800, 1000, 1185])\n",
    "    plt.clabel(TC,fmt=\"%.0f\")\n",
    "    plt.show()"
   ]
  },
  {
   "cell_type": "code",
   "execution_count": 30,
   "metadata": {},
   "outputs": [],
   "source": [
    "run_thermal_model(1,rate)\n",
    "x_coords, z_coords, temps = read_thermal_model('out.temp')"
   ]
  },
  {
   "cell_type": "code",
   "execution_count": 41,
   "metadata": {},
   "outputs": [],
   "source": [
    "X,Z = np.meshgrid(x_coords,z_coords)"
   ]
  },
  {
   "cell_type": "code",
   "execution_count": 52,
   "metadata": {},
   "outputs": [
    {
     "data": {
      "image/png": "[encoded data removed]",
      "text/plain": [
       "<Figure size 432x288 with 1 Axes>"
      ]
     },
     "metadata": {
      "needs_background": "light"
     },
     "output_type": "display_data"
    }
   ],
   "source": [
    "TC = plt.contour(X,Z,temps,colors='k',levels=[0, 300, 600, 800, 1000, 1185])\n",
    "plt.clabel(TC,fmt=\"%.0f\")\n",
    "plt.show()"
   ]
  },
  {
   "cell_type": "code",
   "execution_count": null,
   "metadata": {},
   "outputs": [],
   "source": []
  }
 ],
 "metadata": {
  "kernelspec": {
   "display_name": "Python 3",
   "language": "python",
   "name": "python3"
  },
  "language_info": {
   "codemirror_mode": {
    "name": "ipython",
    "version": 3
   },
   "file_extension": ".py",
   "mimetype": "text/x-python",
   "name": "python",
   "nbconvert_exporter": "python",
   "pygments_lexer": "ipython3",
   "version": "3.7.6"
  }
 },
 "nbformat": 4,
 "nbformat_minor": 4
}
