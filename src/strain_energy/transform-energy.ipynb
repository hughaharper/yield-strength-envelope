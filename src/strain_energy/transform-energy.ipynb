{
 "cells": [
  {
   "cell_type": "markdown",
   "metadata": {},
   "source": [
    "# The energetic conditions of ridge propagation\n",
    "If a ridge is to propagate, then the work available to drive propagation must necessarily exceed the work dissipated by the existing transform, $\\phi$.\n",
    "\n",
    "Also necessary, the strain energy released by the growth of one ridge axis must be greater than the energy absorbed by the dying ridge. Within a fracture mechanics framework, this is equivalent to a stress intensity factor driving the growing ridge, $K_d$, exceeding the stress intensity factor resisting the growth, $K_r$."
   ]
  },
  {
   "cell_type": "code",
   "execution_count": 7,
   "metadata": {},
   "outputs": [],
   "source": [
    "from subprocess import call\n",
    "import numpy as np\n",
    "import matplotlib.pyplot as plt"
   ]
  },
  {
   "cell_type": "code",
   "execution_count": 20,
   "metadata": {},
   "outputs": [],
   "source": [
    "def compute_transform_energy(age_offset,rate,flags={}):\n",
    "    outfile = open('out.temp','w')\n",
    "    runcmd = 'transform_energy' + ' ' + str(age_offset) + ' ' + str(rate) + ' '\n",
    "    for flag, val in flags.items():\n",
    "        runcmd = runcmd + str(flag) + ' ' + str(val) + ' '\n",
    "    print(runcmd)\n",
    "    call(runcmd,shell=True,stdout=outfile)\n",
    "    total_work = np.loadtxt('out.temp')\n",
    "    return total_work"
   ]
  },
  {
   "cell_type": "markdown",
   "metadata": {},
   "source": [
    "## Estimating the work done at a transform zone\n",
    "We can estimate the work done at a transform, $\\phi$, as the integral of $2\\tau U$ over the transform zone, where $U$ is the half spreading rate and $\\tau$ is the yield stress. We use a yield strength envelope with a realistic thermal model to estimate the work done at the transform. We need to consider that for a typical transform fault, the transform zone is significantly damaged and the yield stress is lower than that of the lithosphere generally. So, we need to keep in mind that this is likely an overestimate. However, since we're concerned not with well-developed transform faults but with the broader zones of deformation, the estimate might not be so bad.\n",
    "\n",
    "We will estimate the work done for a given spreading rate while varying the length of the transform offset or the age difference at the offset."
   ]
  },
  {
   "cell_type": "code",
   "execution_count": 24,
   "metadata": {},
   "outputs": [],
   "source": [
    "# start with a nominal spreading rate of 20 mm/yr half rate\n",
    "rate = 0.02\n",
    "offsets = [0.1,0.3,0.5,1.0,1.5,2.0,2.5,3.0]\n",
    "n = len(offsets)\n",
    "phi = np.zeros((n,1))\n",
    "    "
   ]
  },
  {
   "cell_type": "code",
   "execution_count": 25,
   "metadata": {},
   "outputs": [
    {
     "name": "stdout",
     "output_type": "stream",
     "text": [
      "transform_energy 0.1 0.02 \n",
      "transform_energy 0.3 0.02 \n",
      "transform_energy 0.5 0.02 \n",
      "transform_energy 1.0 0.02 \n",
      "transform_energy 1.5 0.02 \n",
      "transform_energy 2.0 0.02 \n",
      "transform_energy 2.5 0.02 \n",
      "transform_energy 3.0 0.02 \n"
     ]
    }
   ],
   "source": [
    "i = 0\n",
    "for offset in offsets:\n",
    "    phi[i] = compute_transform_energy(offset,rate)\n",
    "    i += 1"
   ]
  },
  {
   "cell_type": "code",
   "execution_count": 30,
   "metadata": {},
   "outputs": [
    {
     "data": {
      "text/plain": [
       "Text(0, 0.5, 'Work (W)')"
      ]
     },
     "execution_count": 30,
     "metadata": {},
     "output_type": "execute_result"
    },
    {
     "data": {
      "image/png": "[encoded data removed]",
      "text/plain": [
       "<Figure size 432x288 with 1 Axes>"
      ]
     },
     "metadata": {
      "needs_background": "light"
     },
     "output_type": "display_data"
    }
   ],
   "source": [
    "fig_a, axes = plt.subplots()\n",
    "axes.semilogy(offsets,phi)\n",
    "axes.set_title(str(rate*100) + ' cm/yr half rate')\n",
    "axes.set_xlabel('Age (Myr)')\n",
    "axes.set_ylabel('Work (W)')\n"
   ]
  },
  {
   "cell_type": "markdown",
   "metadata": {},
   "source": [
    "### An analytical solution\n",
    "We might compare our results to an analytical solution to verify/qualify our approach. An analytical solution to can be found in Phipps Morgan and Parmentier (1985)"
   ]
  },
  {
   "cell_type": "code",
   "execution_count": 2,
   "metadata": {},
   "outputs": [],
   "source": [
    "A = 10000\n",
    "B = 10000\n",
    "g = 9.8\n",
    "rho = 2900\n",
    "L = 30000\n",
    "U = 0.02"
   ]
  }
 ],
 "metadata": {
  "kernelspec": {
   "display_name": "Python 3",
   "language": "python",
   "name": "python3"
  },
  "language_info": {
   "codemirror_mode": {
    "name": "ipython",
    "version": 3
   },
   "file_extension": ".py",
   "mimetype": "text/x-python",
   "name": "python",
   "nbconvert_exporter": "python",
   "pygments_lexer": "ipython3",
   "version": "3.7.6"
  }
 },
 "nbformat": 4,
 "nbformat_minor": 4
}
