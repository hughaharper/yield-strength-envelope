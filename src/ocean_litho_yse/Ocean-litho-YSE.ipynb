{
 "cells": [
  {
   "cell_type": "markdown",
   "metadata": {},
   "source": [
    "# The yield strength of the oceanic lithosphere\n",
    "The yield strength envelope of the lithosphere is an estimate of how much stress the lithosphere can sustain as a function of depth. This estimate depends on a number of parameters of varying importance. Both brittle and ductile failure laws are used to evaluate the the yield strength."
   ]
  },
  {
   "cell_type": "code",
   "execution_count": 2,
   "metadata": {},
   "outputs": [],
   "source": [
    "from subprocess import call\n",
    "import numpy as np\n",
    "import matplotlib.pyplot as plt"
   ]
  },
  {
   "cell_type": "code",
   "execution_count": 3,
   "metadata": {},
   "outputs": [],
   "source": [
    "def compute_yse(age,flags={}):\n",
    "    '''\n",
    "    Calls a C program on the command line to compute a yield strength\n",
    "    profile of oceanic lithosphere given an age. Flags optional,\n",
    "    default thermal model is plate cooling (Parsons n Sclater)\n",
    "    '''\n",
    "    outfile = open('out.temp','w')\n",
    "    runcmd = 'ocean_litho_yse' + ' ' + str(age) + ' '\n",
    "    for flag, val in flags.items():\n",
    "        runcmd = runcmd + str(flag) + ' ' + str(val) + ' '\n",
    "    print(runcmd)\n",
    "    call(runcmd,shell=True,stdout=outfile)"
   ]
  },
  {
   "cell_type": "code",
   "execution_count": 4,
   "metadata": {},
   "outputs": [],
   "source": [
    "def read_yse_data(yse_file):\n",
    "    '''\n",
    "    Reads the file written by compute_yse function,\n",
    "    returns five parameters:\n",
    "    depth, temperature (C), pressure, YS in tension and compression\n",
    "    '''\n",
    "    data = np.loadtxt(yse_file)\n",
    "    z = -1*data[:,0]\n",
    "    temp = data[:,1]\n",
    "    pressure = data[:,2]\n",
    "    strength_tension = data[:,3]\n",
    "    strength_compress = data[:,4]\n",
    "    return z,temp,pressure,strength_tension,strength_compress"
   ]
  },
  {
   "cell_type": "code",
   "execution_count": 5,
   "metadata": {},
   "outputs": [],
   "source": [
    "def plot_YSE(ax,ysc,yst,z):\n",
    "    ax.plot(ysc,z)\n",
    "    ax.plot(yst,z)\n",
    "    ax.set_xlim(-1000, 1000)\n",
    "    ax.set_ylim(-20, 0)"
   ]
  },
  {
   "cell_type": "markdown",
   "metadata": {},
   "source": [
    "## Flow laws\n",
    "For a given stress state (i.e., tension or compression), different earth materials don't have dramatically different yield strength envelopes in the brittle failure regime. However, ductile flow, or the temperature at which ductile flow occurs, is more variable among earth materials.\n",
    "\n",
    "For the following models, we use a dry olivine power law flow for the mantle. For the crust (fixed at 6 km thickness), we assign a slightly different flow law. There's a good argument for this (Chen and Morgan, 1990). We experiment using either a wet olivine flow law (Karato and Wu?) or a diabase flow law (citation needed) for the crust.\n",
    "\n",
    "Here's what those different flow laws do to the YSE for a fixed age of 1.5 Myr:"
   ]
  },
  {
   "cell_type": "code",
   "execution_count": 13,
   "metadata": {},
   "outputs": [
    {
     "name": "stdout",
     "output_type": "stream",
     "text": [
      "ocean_litho_yse 1.5 tesw 1 hssw 1 flow 0 \n",
      "ocean_litho_yse 1.5 flow 1 \n",
      "ocean_litho_yse 1.5 flow 2 \n"
     ]
    },
    {
     "data": {
      "text/plain": [
       "(-10, 0)"
      ]
     },
     "execution_count": 13,
     "metadata": {},
     "output_type": "execute_result"
    },
    {
     "data": {
      "image/png": "[encoded data removed]",
      "text/plain": [
       "<Figure size 864x216 with 3 Axes>"
      ]
     },
     "metadata": {
      "needs_background": "light"
     },
     "output_type": "display_data"
    }
   ],
   "source": [
    "age = 1.5\n",
    "fig, axes = plt.subplots(nrows=1,ncols=3,sharey='all',sharex='all',figsize=(12.0, 3.0))\n",
    "# constant flow law\n",
    "mod_flags = {\n",
    "    'tesw': 1,\n",
    "    'hssw': 1,\n",
    "    'flow': 0\n",
    "}\n",
    "compute_yse(age,mod_flags)\n",
    "z,temp_a,pressure,ys_t_homo,ys_c_homo = read_yse_data('out.temp')\n",
    "plot_YSE(axes[0],ys_c_homo,ys_t_homo,z)\n",
    "axes[0].set_xlabel('Strength (MPa)')\n",
    "axes[0].set_ylabel('Depth (km)')\n",
    "axes[0].set_title('Homogeneous flow law')\n",
    "axes[0].set_ylim(-10, 0)\n",
    "\n",
    "# wet olivine crust\n",
    "mod_flags = {\n",
    "    'flow': 1\n",
    "}\n",
    "compute_yse(age,mod_flags)\n",
    "z,temp_a,pressure,ys_t_wet,ys_c_wet = read_yse_data('out.temp')\n",
    "plot_YSE(axes[1],ys_c_wet,ys_t_wet,z)\n",
    "axes[1].set_title('Wet olivine crust')\n",
    "axes[1].set_ylim(-10, 0)\n",
    "\n",
    "# diabase crust\n",
    "mod_flags = {\n",
    "    'flow': 2\n",
    "}\n",
    "compute_yse(age,mod_flags)\n",
    "z,temp_a,pressure,ys_t_dia,ys_c_dia = read_yse_data('out.temp')\n",
    "plot_YSE(axes[2],ys_c_dia,ys_t_dia,z)\n",
    "axes[2].set_title('Diabase crust')\n",
    "axes[2].set_ylim(-10, 0)\n",
    "\n"
   ]
  },
  {
   "cell_type": "markdown",
   "metadata": {},
   "source": [
    "There's something interesting here-- the snapshot at 1.5 Myr shows a weak zone in the lower crust for the alternative flow laws. A slightly different flow law results in this \"jelly-sandwich\" type of model for young lithosphere. Now, is there good reason for using one of these flow laws? "
   ]
  },
  {
   "cell_type": "markdown",
   "metadata": {},
   "source": [
    "## Thermal models\n",
    "The temperature of the material is of great importance in evaluating the yield strength. Since we're concerned with young oceanic lithosphere, we need a model for the cooling of the material.\n",
    "\n",
    "For more discussion on thermal models, refer to the jupyter notebook in the 'src/thermal' directory. Here, we'll skip over the half space and plate models."
   ]
  },
  {
   "cell_type": "markdown",
   "metadata": {},
   "source": [
    "### The Sleep (1975) thermal model\n",
    "For very young oceanic crust, the plate model misses some complexities. Firstly, there's no horizontal advection (dependence on spreading rate). Secondly, the axial temperature profile is simply linear. Sleep (1975) presented an analytical solution to mid-ocean ridge cooling that includes horizontal advection and a more complex axial temperature profile."
   ]
  },
  {
   "cell_type": "code",
   "execution_count": null,
   "metadata": {},
   "outputs": [],
   "source": [
    "# list of ages to drive the loop\n",
    "ages = [0.5, 1, 1.5, 2, 2.5, 3, 4]\n",
    "n = len(ages)"
   ]
  },
  {
   "cell_type": "code",
   "execution_count": null,
   "metadata": {
    "scrolled": false
   },
   "outputs": [],
   "source": [
    "i = 0\n",
    "# prepare plotting axes\n",
    "fig_ystr, axes = plt.subplots(nrows=1,ncols=n,sharey='all',sharex='all',figsize=(12.0, 3.0))\n",
    "fig_ystr.tight_layout()\n",
    "fig_temp, ax_t = plt.subplots(figsize=(5.0, 3.0))\n",
    "# initialize integrated strength array\n",
    "strength_sleep = np.zeros((n,1))\n",
    "# define flags for YSE model\n",
    "mod_flags = {\n",
    "    'tesw': 1,\n",
    "    'hssw': 0\n",
    "}\n",
    "\n",
    "for age in ages:\n",
    "    compute_yse(age,mod_flags)\n",
    "    z,temp_a,pressure,ystr_tension_a,ystr_compress_a = read_yse_data('out.temp')\n",
    "    #--------------------------------------\n",
    "    # plot yse\n",
    "    plot_YSE(axes[i],ystr_compress_a,ystr_tension_a,z)\n",
    "    axes[i].set_title(str(age) + \" Myr\")\n",
    "    \n",
    "    if i == 0:\n",
    "        axes[i].set_xlabel('Strength (MPa)')\n",
    "        axes[i].set_ylabel('Depth (km)')\n",
    "        \n",
    "    #--------------------------------------\n",
    "    # plot temperature\n",
    "    ax_t.plot(temp_a,z,label=age)\n",
    "    if i == (n-1):\n",
    "        plt.xlim(0,1400)\n",
    "        plt.ylim(-120,0)\n",
    "        plt.xlabel('Temperature')\n",
    "        plt.ylabel('Depth (km)')\n",
    "    #--------------------------------------\n",
    "    # integrated strength\n",
    "    strength_sleep[i] = np.trapz((ystr_tension_a - ystr_compress_a)*1e6,-1*z*1e3);\n",
    "    \n",
    "    i+=1\n",
    "    "
   ]
  },
  {
   "cell_type": "markdown",
   "metadata": {},
   "source": [
    "Let's also plot the integrated strength as a function of age."
   ]
  },
  {
   "cell_type": "code",
   "execution_count": null,
   "metadata": {},
   "outputs": [],
   "source": [
    "fig_str, ax_str = plt.subplots(figsize=(5.0, 3.0))\n",
    "ax_str.semilogy(ages,strength_sleep,'ko-')\n",
    "ax_str.set_ylim(0.2e12, 1e13);\n",
    "ax_str.set_xlabel('Age (Myr)');\n",
    "ax_str.set_ylabel('Strength N m^-1');\n",
    "ax_str.set_title('Integrated Strength')\n",
    "plt.show()"
   ]
  },
  {
   "cell_type": "markdown",
   "metadata": {},
   "source": [
    "### A slightly modified thermal model, Morton and Sleep (1985)\n",
    "How can we model hydrothermal cooling of the young oceanic crust? The intuitive way might be to prescribe the crust a different thermal conductivity, but this approach would prevent us from using an analytical model. Some studies have used a finite element method approach and applied a variable thermal conductivity. The Morton and Sleep (1985) approach uses point source heat sinks in the crust to simulate added cooling of hydrothermal circulation. The benefits: an analytical solution. The downsides? The distribution of the point sources is basically ad hoc."
   ]
  },
  {
   "cell_type": "code",
   "execution_count": null,
   "metadata": {},
   "outputs": [],
   "source": [
    "i = 0\n",
    "# prepare plotting axes\n",
    "fig_ystr, axes = plt.subplots(nrows=1,ncols=n,sharey='all',sharex='all',figsize=(12.0, 3.0))\n",
    "fig_ystr.tight_layout()\n",
    "fig_temp, ax_t = plt.subplots(figsize=(5.0, 3.0))\n",
    "# initialize integrated strength array\n",
    "strength_mod = np.zeros((n,1))\n",
    "# define flags for YSE model\n",
    "mod_flags = {\n",
    "    'tesw': 1,\n",
    "    'hssw': 1\n",
    "}\n",
    "\n",
    "for age in ages:\n",
    "    compute_yse(age,mod_flags)\n",
    "    z,temp_b,pressure,ystr_tension_b,ystr_compress_b = read_yse_data('out.temp')\n",
    "    #--------------------------------------\n",
    "    # plot yse\n",
    "    plot_YSE(axes[i],ystr_compress_b,ystr_tension_b,z)\n",
    "    axes[i].set_title(str(age) + \" Myr\")\n",
    "    \n",
    "    if i == 0:\n",
    "        axes[i].set_xlabel('Strength (MPa)')\n",
    "        axes[i].set_ylabel('Depth (km)')\n",
    "        \n",
    "    #--------------------------------------\n",
    "    # plot temperature\n",
    "    ax_t.plot(temp_b,z,label=age)\n",
    "    if i == (n-1):\n",
    "        plt.xlim(0,1400)\n",
    "        plt.ylim(-120,0)\n",
    "        plt.xlabel('Temperature')\n",
    "        plt.ylabel('Depth (km)')\n",
    "    #--------------------------------------\n",
    "    # integrated strength\n",
    "    strength_mod[i] = np.trapz((ystr_tension_b - ystr_compress_b)*1e6,-1*z*1e3);\n",
    "    \n",
    "    i+=1"
   ]
  },
  {
   "cell_type": "code",
   "execution_count": null,
   "metadata": {},
   "outputs": [],
   "source": [
    "fig_str, ax_str = plt.subplots(figsize=(5.0, 3.0))\n",
    "ax_str.semilogy(ages,strength_mod,'ko-')\n",
    "ax_str.set_ylim(0.2e12, 1e13);\n",
    "ax_str.set_xlabel('Age (Myr)');\n",
    "ax_str.set_ylabel('Strength N m^-1');\n",
    "ax_str.set_title('Integrated Strength')\n",
    "plt.show()"
   ]
  },
  {
   "cell_type": "markdown",
   "metadata": {},
   "source": [
    "Of course, by eye, there's not much of a difference. But let's examine the results more closely"
   ]
  },
  {
   "cell_type": "code",
   "execution_count": null,
   "metadata": {},
   "outputs": [],
   "source": [
    "i = 0\n",
    "\n",
    "# prepare plotting axes\n",
    "fig_ystr, axes = plt.subplots(nrows=1,ncols=n,sharey='all',sharex='all',figsize=(12.0, 3.0))\n",
    "fig_ystr.tight_layout()\n",
    "# initialize integrated strength array\n",
    "strength_a = np.zeros((n,1))\n",
    "strength_b = np.zeros((n,1))\n",
    "# define flags for YSE model\n",
    "sleep_flags = {\n",
    "    'tesw': 1,\n",
    "    'hssw': 0\n",
    "}\n",
    "\n",
    "mod_flags = {\n",
    "    'tesw': 1,\n",
    "    'hssw': 1\n",
    "}\n",
    "\n",
    "\n",
    "for age in ages:\n",
    "    compute_yse(age,sleep_flags)\n",
    "    z,temp_a,pressure,ystr_tension_a,ystr_compress_a = read_yse_data('out.temp')\n",
    "    \n",
    "    compute_yse(age,mod_flags)\n",
    "    z,temp_b,pressure,ystr_tension_b,ystr_compress_b = read_yse_data('out.temp')\n",
    "    \n",
    "    #--------------------------------------\n",
    "    # plot yse\n",
    "    plot_YSE(axes[i],ystr_compress_a,ystr_tension_a,z)\n",
    "    plot_YSE(axes[i],ystr_compress_b,ystr_tension_b,z)\n",
    "\n",
    "    axes[i].set_title(str(age) + \" Myr\")\n",
    "    \n",
    "    if i == 0:\n",
    "        axes[i].set_xlabel('Strength (MPa)')\n",
    "        axes[i].set_ylabel('Depth (km)')\n",
    "        \n",
    "\n",
    "    #--------------------------------------\n",
    "    # integrated strength\n",
    "    strength_a[i] = np.trapz((ystr_tension_a - ystr_compress_a)*1e6,-1*z*1e3);\n",
    "    strength_b[i] = np.trapz((ystr_tension_b - ystr_compress_b)*1e6,-1*z*1e3);\n",
    "    \n",
    "    i+=1"
   ]
  },
  {
   "cell_type": "code",
   "execution_count": null,
   "metadata": {},
   "outputs": [],
   "source": [
    "for i in range(n):\n",
    "    stren_diff = strength_a[i] - strength_b[i]\n",
    "    print(strength_a[i])\n",
    "    print(strength_b[i])\n",
    "    print(stren_diff)"
   ]
  },
  {
   "cell_type": "code",
   "execution_count": null,
   "metadata": {},
   "outputs": [],
   "source": []
  }
 ],
 "metadata": {
  "kernelspec": {
   "display_name": "Python 3",
   "language": "python",
   "name": "python3"
  },
  "language_info": {
   "codemirror_mode": {
    "name": "ipython",
    "version": 3
   },
   "file_extension": ".py",
   "mimetype": "text/x-python",
   "name": "python",
   "nbconvert_exporter": "python",
   "pygments_lexer": "ipython3",
   "version": "3.7.6"
  }
 },
 "nbformat": 4,
 "nbformat_minor": 4
}
